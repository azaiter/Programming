{
 "cells": [
  {
   "cell_type": "markdown",
   "metadata": {
    "collapsed": false
   },
   "source": [
    "# Math 223 Intro Homework"
   ]
  },
  {
   "cell_type": "markdown",
   "metadata": {},
   "source": [
    "Welcome to Math 223.  In this course, we will be using the Julia language to do some matrix and vector calcuations. One of the easiest ways to use Julia is through a Jupyter notebook interface.  What you are just reading is an example of a Jupyter notebook.  A Jupyter notebook lets you combine rich text (entered in a version of the _markdown_ syntax) with math formulas (entered in the $\\LaTeX$ syntax) and calculations in a supported programming language, in this case Julia."
   ]
  },
  {
   "cell_type": "markdown",
   "metadata": {},
   "source": [
    "__For example:__ Suppose we wanted to find an approximation to the number $$7 + \\frac{\\sqrt{13}}{5}$$ using Julia:"
   ]
  },
  {
   "cell_type": "code",
   "execution_count": 1,
   "metadata": {
    "collapsed": false
   },
   "outputs": [
    {
     "data": {
      "text/plain": [
       "7.721110255092798"
      ]
     },
     "execution_count": 1,
     "metadata": {},
     "output_type": "execute_result"
    }
   ],
   "source": [
    "7 + sqrt(13)/5"
   ]
  },
  {
   "cell_type": "markdown",
   "metadata": {},
   "source": [
    "Or we may want to find the 100th partial sum of the harmonic series: $$s_{100} = \\sum_{i=1}^{100} \\frac{1}{i}$$ using a simple loop: "
   ]
  },
  {
   "cell_type": "code",
   "execution_count": 2,
   "metadata": {
    "collapsed": false
   },
   "outputs": [
    {
     "name": "stdout",
     "output_type": "stream",
     "text": [
      "5.187377517639621"
     ]
    }
   ],
   "source": [
    "n = 100\n",
    "s = 0\n",
    "\n",
    "for i = 1:n\n",
    "    s += 1/i\n",
    "end\n",
    "\n",
    "print(s)"
   ]
  },
  {
   "cell_type": "markdown",
   "metadata": {},
   "source": [
    "As you can see, a Jupyter notebook will let us do computations using a programming language, display the results of the computations, a explain the computation in a nice easy to read way, all in one document, all that in your browser."
   ]
  },
  {
   "cell_type": "markdown",
   "metadata": {},
   "source": [
    "Not only that, but the notebook is fully interactive, which means that somebody reading a notebook can make changes and the changes will be reflected in the displayed text and the cresults of the computation.\n",
    "\n",
    "Try it now -- by following these steps, you will change the notebook so it will calculate the 200th partial sum, rather than 100th partial sum:\n",
    "\n",
    "1.   First double click on the summation formula for $s_{100}$ above.  It will change the text so you will be able to edit it.  Carefully edit the text so that every occurence of 100 will become 200.  Make sure you do not change anything else, unless you know what you are doing (if you know _markdown_ and $\\LaTeX$ syntax, you may want to experiment more). Then press <kbd>Shift</kbd>-<kbd>Enter</kbd> to turn the text back to it's typeset form, this time with 100's replaced by 200's. "
   ]
  },
  {
   "cell_type": "code",
   "execution_count": null,
   "metadata": {
    "collapsed": true
   },
   "outputs": [],
   "source": []
  }
 ],
 "metadata": {
  "kernelspec": {
   "display_name": "Julia",
   "language": "julia",
   "name": "julia-0.4"
  },
  "language_info": {
   "file_extension": ".jl",
   "mimetype": "application/julia",
   "name": "julia",
   "version": "0.4.1"
  }
 },
 "nbformat": 4,
 "nbformat_minor": 0
}
