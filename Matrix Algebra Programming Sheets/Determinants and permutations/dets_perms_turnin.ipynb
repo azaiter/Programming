{
 "cells": [
  {
   "cell_type": "markdown",
   "metadata": {
    "collapsed": false
   },
   "source": [
    "# Determinants and Permutations"
   ]
  },
  {
   "cell_type": "markdown",
   "metadata": {},
   "source": [
    "In class we learned a way to define and calculate determinants using row or column expansion.  However, there is another common way to define determinants: by using _permutations_.\n",
    "\n",
    "A __permutation__ of a given set $A$ is a list of elements of $A$ where each element or $A$ appears exactly once. For example a permutation of the set $A = \\{a,b,c,d,e\\}$ could be the list $(c,a,b,e,d)$.  The _order_ of the elements in a permuatation is important.  We can say that a permutation of a set $A$ is a specific _ordering_ of all the elements of $A$."
   ]
  },
  {
   "cell_type": "markdown",
   "metadata": {},
   "source": [
    "## Number of permutations"
   ]
  },
  {
   "cell_type": "markdown",
   "metadata": {},
   "source": [
    "__How many__ different permutations of a given set $A$ are there?\n",
    "\n",
    "It turns out the number of permutations of a given set $A$ depends only on the number of elements of the set.  For a set with $n$ elements, the number of permutations can be determined in the following way:\n",
    "\n",
    "*  Since we need to order the elements of $A$, we need to first decide which of the elements is first.  We have $n$ choices.\n",
    "\n",
    "*  Once the first element is selected, we need to select the second element. Now we only have $n-1$ elements left to choose from, so there will only be $n-1$ choices.  So there will be $n$ ways to choose the first element, and for each of these $n$ choices, there will be $n-1$ way to choose the second element, so altogether there will be $n(n-1)$ ways to choose the first two elements.\n",
    "\n",
    "*  For each of those $n(n-1)$ choices, we will need to choose the third element, and now there are only $n-2$ elements left, so for each of the $n(n-1)$ ways to choose the first two elements, we only have $n-2$ choices for the third element.  Altogether we have $n(n-1)(n-2)$ ways to choose the first three elements.\n",
    "\n",
    "*  $\\dots$\n",
    "\n",
    "*  When we finally have the first $n-1$ elements selected, there is only one element left, so there  is only one choice for the last element.\n",
    "\n",
    "*  Finally, the total number of ways to order all the $n$ elements is \n",
    "    $$n\\cdot (n-1)\\cdot (n-2)\\cdot \\dots\\cdot 2\\cdot 1 = n!$$"
   ]
  },
  {
   "cell_type": "markdown",
   "metadata": {},
   "source": [
    "For example, lets find all the permutations of the set $\\{1,2,3,4\\}$:"
   ]
  },
  {
   "cell_type": "code",
   "execution_count": 1,
   "metadata": {
    "collapsed": false
   },
   "outputs": [
    {
     "name": "stdout",
     "output_type": "stream",
     "text": [
      "[1,2,3,4]\n",
      "[1,2,4,3]\n",
      "[1,3,2,4]\n",
      "[1,3,4,2]\n",
      "[1,4,2,3]\n",
      "[1,4,3,2]\n",
      "[2,1,3,4]\n",
      "[2,1,4,3]\n",
      "[2,3,1,4]\n",
      "[2,3,4,1]\n",
      "[2,4,1,3]\n",
      "[2,4,3,1]\n",
      "[3,1,2,4]\n",
      "[3,1,4,2]\n",
      "[3,2,1,4]\n",
      "[3,2,4,1]\n",
      "[3,4,1,2]\n",
      "[3,4,2,1]\n",
      "[4,1,2,3]\n",
      "[4,1,3,2]\n",
      "[4,2,1,3]\n",
      "[4,2,3,1]\n",
      "[4,3,1,2]\n",
      "[4,3,2,1]\n"
     ]
    }
   ],
   "source": [
    "for p in permutations([1,2,3,4])\n",
    "    println(p)\n",
    "end"
   ]
  },
  {
   "cell_type": "markdown",
   "metadata": {},
   "source": [
    "How many are there?  We could count them, but it will be easier to do this:"
   ]
  },
  {
   "cell_type": "code",
   "execution_count": 2,
   "metadata": {
    "collapsed": false
   },
   "outputs": [
    {
     "data": {
      "text/plain": [
       "24"
      ]
     },
     "execution_count": 2,
     "metadata": {},
     "output_type": "execute_result"
    }
   ],
   "source": [
    "factorial(4)"
   ]
  },
  {
   "cell_type": "markdown",
   "metadata": {},
   "source": [
    "### Question 1:"
   ]
  },
  {
   "cell_type": "markdown",
   "metadata": {},
   "source": [
    "Double click on this cell so you can edit it, and list __all the permutations__ of the set $\\{a,b,c\\}$:\n",
    "### Answer 1:\n",
    "<br>{a,b,c}\n",
    "<br>{a,c,b}\n",
    "<br>{b,a,c}\n",
    "<br>{b,c,a}\n",
    "<br>{c,a,b}\n",
    "<br>{c,b,a}"
   ]
  },
  {
   "cell_type": "markdown",
   "metadata": {},
   "source": [
    "### Question 2:"
   ]
  },
  {
   "cell_type": "markdown",
   "metadata": {},
   "source": [
    "How many permutations are there for a set of 20 elements?\n",
    "### Answer 2:"
   ]
  },
  {
   "cell_type": "code",
   "execution_count": 2,
   "metadata": {
    "collapsed": false
   },
   "outputs": [
    {
     "data": {
      "text/plain": [
       "2432902008176640000"
      ]
     },
     "execution_count": 2,
     "metadata": {},
     "output_type": "execute_result"
    }
   ],
   "source": [
    "factorial(20)"
   ]
  },
  {
   "cell_type": "markdown",
   "metadata": {},
   "source": [
    "## Permutations as functions"
   ]
  },
  {
   "cell_type": "markdown",
   "metadata": {},
   "source": [
    "Instead of ordering, you can also think of permutations as functions from the set $\\{1,2,3,\\dots,n\\}$ to $A$, where the function sends $1$ to the first element in the permutation, $2$ to the second element and so on.\n",
    "\n",
    "For example, the permutation $\\sigma = (a,c,d,b)$ sends $1$ to $a$, $2$ to $c$, $3$ to $d$ and $4$ to $b$.  The way this is usially written is using indices: $\\sigma_1 = a$, $\\sigma_2 = c$, $\\sigma_3 = d$ and $\\sigma_4 = b$."
   ]
  },
  {
   "cell_type": "markdown",
   "metadata": {},
   "source": [
    "In order to make things a bit simpler, we will, from now on, only consider permutations of sets of consecutive positive integers starting with 1, the is sets of the form $A = \\{1,2,3,4,\\dots,n\\}$.  In that case, a permutation can be viewed as a function from $A$ to $A$: a function that simply scrambles the elements of $A$ so they are in a different order."
   ]
  },
  {
   "cell_type": "markdown",
   "metadata": {},
   "source": [
    "## Transpositions"
   ]
  },
  {
   "cell_type": "markdown",
   "metadata": {},
   "source": [
    "The simplest permutations simply exchange two elements of the set $A$, leaving the rest of the elements alone.  For example, the following are transpositions:\n",
    "*  $(1,2,4,3,5,6)$ exchanging 3 and 4\n",
    "*  $(1,5,3,4,2,6)$ exchanging 2 and 5\n",
    "\n",
    "while the following are not:\n",
    "*  $(1,3,4,2,5,6)$ where $2$, $3$ and $4$ are all misplaced\n",
    "*  $(2,1,2,3,6,5)$ where $1$ and $2$ are exchanged and $5$ and $6$ are exchanged."
   ]
  },
  {
   "cell_type": "markdown",
   "metadata": {},
   "source": [
    "### Question 3:\n",
    "\n",
    "Given the following permutations labeled by numbers __1__ to __7__:\n",
    "\n",
    "*  __1__: $(1,2,4,3,5)$ ::::: (3,4)\n",
    "*  __2__: $(5,2,3,1,4)$ ::::: 2 exchanges. not label of transposition\n",
    "*  __3__: $(1,4,3,2,5)$ ::::: (2,4)\n",
    "*  __4__: $(1,5,3,4,2)$ ::::: (2,5)\n",
    "*  __5__: $(5,4,3,2,1)$ ::::: 2 exchanges. not label of transposition\n",
    "*  __6__: $(1,2,3,4,5)$ ::::: (1,1) or (2,2) or (3,3) or (4,4) or (5,5)|| No exchanges ?\n",
    "*  __7__: $(3,2,1,4,5)$ ::::: (1,3)\n",
    "\n",
    "edit the following list so that it will only contain the numbers that are labels of transpositions (in other words, remove all the numbers that are not labels of transpositions):"
   ]
  },
  {
   "cell_type": "code",
   "execution_count": 1,
   "metadata": {
    "collapsed": false
   },
   "outputs": [
    {
     "data": {
      "text/plain": [
       "4-element Array{Int64,1}:\n",
       " 1\n",
       " 3\n",
       " 4\n",
       " 7"
      ]
     },
     "execution_count": 1,
     "metadata": {},
     "output_type": "execute_result"
    }
   ],
   "source": [
    "[1,3,4,7]"
   ]
  },
  {
   "cell_type": "markdown",
   "metadata": {},
   "source": [
    "### Notation for transpositions:\n",
    "When writing transpositions, we usually only write the two numbers that are exchanged, since the rest of the numbers stay at their usual position, so there is no need to write them down.  For example, the transposition $(1,2,5,4,3,6)$ exhanges $3$ and $5$, so it would be written as $(3,5)$."
   ]
  },
  {
   "cell_type": "markdown",
   "metadata": {},
   "source": [
    "### Composition of transpositions:\n",
    "Here is something that makes transpositions interesting: \n",
    "\n",
    "_Every permutation can be obtained as a composition of zero or more  transpositions._\n",
    "\n",
    "For example, the permutation $(2,1,3,4,6,5)$ can be obtained by taking the usual ordering $(1,2,3,4,5,6)$, and exchanging $1$ and $2$, and then exchanging $5$ and $6$.  So it is a composition of transpositions $(1,2)$ and $(5,6)$. \n",
    "\n",
    "The permutation $(1,4,2,3,5,6)$ can be obtained by starting with $(1,2,3,4,5,6)$, switching the 3rd and 4th element to get $(1,2,4,3,5,6)$, then switching the 2nd element ($2$) with the 3rd element ($4$), to get $(1,4,2,3,5,6)$.  It is therefore a composition of $(3,4)$ and $(2,3)$."
   ]
  },
  {
   "cell_type": "markdown",
   "metadata": {},
   "source": [
    "### Parity of permutations and Levi-Civita symbol"
   ]
  },
  {
   "cell_type": "markdown",
   "metadata": {},
   "source": [
    "The way you can write a permutation as a composition of transpositions is not unique.  each permutation can be written as compostion of transpositions in many different ways.  However one interesting thing is always true:  a permutation that can be written as a composition of an __even__ number of transpositions will __always__ be written as a composition of an even number of transpositions.  We call such permutations _even permutations_.  \n",
    "\n",
    "Similarly, a permutation that can be written as a composition of an __odd__ number of transpositions will __always__ be written using an odd number of transpositions, and will be called an _odd permutation_."
   ]
  },
  {
   "cell_type": "markdown",
   "metadata": {},
   "source": [
    "For example, the permutation $(1,3,4,2,6,5)$ is an odd permutation, since it can be written as the composition of $(2,3)$, $(3,4)$ and $(5,6)$."
   ]
  },
  {
   "cell_type": "markdown",
   "metadata": {},
   "source": [
    "We can then define so called __Levi-Civita symbol__ of a permutation, also called the _sign_ of a permutation, the following way:\n",
    "\n",
    "*  If the permutation is even, its Levi-Civita symbol is $+1$.\n",
    "*  If the permutation is odd, its Levi-Civita symbol is $-1$.\n",
    "*  For completeness, the Levi-Civita symbol of a list that is not a permutation (for example if it has repeated elements) is $0$. \n",
    "\n",
    "The Levi-Civita symbol of a list $\\sigma$ is denoted by $\\varepsilon_\\sigma$, or by $\\operatorname{sgn}(\\sigma)$."
   ]
  },
  {
   "cell_type": "markdown",
   "metadata": {},
   "source": [
    "### Question 4\n",
    "Enter the Levi-Civita symbol for each of the following lists:"
   ]
  },
  {
   "cell_type": "markdown",
   "metadata": {},
   "source": [
    "$(1,3,2,4,6,5)$"
   ]
  },
  {
   "cell_type": "code",
   "execution_count": 2,
   "metadata": {
    "collapsed": false
   },
   "outputs": [
    {
     "data": {
      "text/plain": [
       "1"
      ]
     },
     "execution_count": 2,
     "metadata": {},
     "output_type": "execute_result"
    }
   ],
   "source": [
    "levicivita([1,3,2,4,6,5])"
   ]
  },
  {
   "cell_type": "markdown",
   "metadata": {},
   "source": [
    "$(1,4,3,2,6,5)$"
   ]
  },
  {
   "cell_type": "code",
   "execution_count": 3,
   "metadata": {
    "collapsed": false
   },
   "outputs": [
    {
     "data": {
      "text/plain": [
       "1"
      ]
     },
     "execution_count": 3,
     "metadata": {},
     "output_type": "execute_result"
    }
   ],
   "source": [
    "levicivita([1,4,3,2,6,5])"
   ]
  },
  {
   "cell_type": "markdown",
   "metadata": {},
   "source": [
    "$(1,2,1,2,5)$"
   ]
  },
  {
   "cell_type": "code",
   "execution_count": 5,
   "metadata": {
    "collapsed": false
   },
   "outputs": [
    {
     "data": {
      "text/plain": [
       "0"
      ]
     },
     "execution_count": 5,
     "metadata": {},
     "output_type": "execute_result"
    }
   ],
   "source": [
    "levicivita([1,2,1,2,2,5])"
   ]
  },
  {
   "cell_type": "markdown",
   "metadata": {},
   "source": [
    "Let's look at the Levi-Civita symbols of all 24 permutations of $\\{1,2,3,4\\}$:"
   ]
  },
  {
   "cell_type": "code",
   "execution_count": 4,
   "metadata": {
    "collapsed": false
   },
   "outputs": [
    {
     "name": "stdout",
     "output_type": "stream",
     "text": [
      "The sign of the permutation [1,2,3,4] is 1.\n",
      "The sign of the permutation [1,2,4,3] is -1.\n",
      "The sign of the permutation [1,3,2,4] is -1.\n",
      "The sign of the permutation [1,3,4,2] is 1.\n",
      "The sign of the permutation [1,4,2,3] is 1.\n",
      "The sign of the permutation [1,4,3,2] is -1.\n",
      "The sign of the permutation [2,1,3,4] is -1.\n",
      "The sign of the permutation [2,1,4,3] is 1.\n",
      "The sign of the permutation [2,3,1,4] is 1.\n",
      "The sign of the permutation [2,3,4,1] is -1.\n",
      "The sign of the permutation [2,4,1,3] is -1.\n",
      "The sign of the permutation [2,4,3,1] is 1.\n",
      "The sign of the permutation [3,1,2,4] is 1.\n",
      "The sign of the permutation [3,1,4,2] is -1.\n",
      "The sign of the permutation [3,2,1,4] is -1.\n",
      "The sign of the permutation [3,2,4,1] is 1.\n",
      "The sign of the permutation [3,4,1,2] is 1.\n",
      "The sign of the permutation [3,4,2,1] is -1.\n",
      "The sign of the permutation [4,1,2,3] is -1.\n",
      "The sign of the permutation [4,1,3,2] is 1.\n",
      "The sign of the permutation [4,2,1,3] is 1.\n",
      "The sign of the permutation [4,2,3,1] is -1.\n",
      "The sign of the permutation [4,3,1,2] is -1.\n",
      "The sign of the permutation [4,3,2,1] is 1.\n"
     ]
    }
   ],
   "source": [
    "for p in permutations(1:4)\n",
    "    println(\"The sign of the permutation $p is $(levicivita(p)).\")\n",
    "end"
   ]
  },
  {
   "cell_type": "markdown",
   "metadata": {},
   "source": [
    "How many odd and how many even permutations are there?"
   ]
  },
  {
   "cell_type": "code",
   "execution_count": 6,
   "metadata": {
    "collapsed": false
   },
   "outputs": [
    {
     "name": "stdout",
     "output_type": "stream",
     "text": [
      "Number Of even permutations is : 12\n",
      "Number Of odd permutations is : 12\n"
     ]
    }
   ],
   "source": [
    "odd = 0\n",
    "even = 0\n",
    "for p in permutations(1:4)\n",
    "    if levicivita(p) == 1\n",
    "        even = even + 1\n",
    "    end\n",
    "    if levicivita(p) == -1\n",
    "        odd = odd + 1\n",
    "    end\n",
    "end\n",
    "println(\"Number Of even permutations is : \", even)\n",
    "println(\"Number Of odd permutations is : \", odd)"
   ]
  },
  {
   "cell_type": "markdown",
   "metadata": {},
   "source": [
    "## Permutation matrices"
   ]
  },
  {
   "cell_type": "markdown",
   "metadata": {},
   "source": [
    "Suppose we want to study permutations of $\\{1,2,3,4,5\\}$.  We can write this set in its natural order as a column matrix:\n",
    "\n",
    "$$\\begin{bmatrix} 1\\\\2\\\\3\\\\4\\\\5\\end{bmatrix}$$\n",
    "or in code:"
   ]
  },
  {
   "cell_type": "code",
   "execution_count": 5,
   "metadata": {
    "collapsed": false
   },
   "outputs": [
    {
     "data": {
      "text/plain": [
       "5-element Array{Int64,1}:\n",
       " 1\n",
       " 2\n",
       " 3\n",
       " 4\n",
       " 5"
      ]
     },
     "execution_count": 5,
     "metadata": {},
     "output_type": "execute_result"
    }
   ],
   "source": [
    "A = [1;2;3;4;5]"
   ]
  },
  {
   "cell_type": "markdown",
   "metadata": {},
   "source": [
    "We know that to exchange two rows of this matrix, we can multiply it by an elementary matrix such as \n",
    "\n",
    "$$\\begin{bmatrix}\n",
    "1&0&0&0&0\\\\\n",
    "0&0&0&1&0\\\\\n",
    "0&0&1&0&0\\\\\n",
    "0&1&0&0&0\\\\\n",
    "0&0&0&0&1\n",
    "\\end{bmatrix}$$"
   ]
  },
  {
   "cell_type": "markdown",
   "metadata": {},
   "source": [
    "This matrix will exchange rows 2 and 4, in other words, it will apply the transposition $(2,4)$ on the natuaral ordering of the set $A$."
   ]
  },
  {
   "cell_type": "markdown",
   "metadata": {},
   "source": [
    "In the same way, we can do every transposition.  If we want to do several transpositions on a row, all we need to do is multiply by several euch elementary matrices in a row.  Since every permutation can be obtained by a sequence of zero or more transpositions, it can be represented by a matrix that is a product or elementary \"transposition\" matrices."
   ]
  },
  {
   "cell_type": "markdown",
   "metadata": {},
   "source": [
    "For example, the permutation $(2,5,4,1,3)$ can be represented by the matrix \n",
    "\n",
    "$$\\begin{bmatrix}\n",
    "0&1&0&0&0\\\\\n",
    "0&0&0&0&1\\\\\n",
    "0&0&0&1&0\\\\\n",
    "1&0&0&0&0\\\\\n",
    "0&0&1&0&0\n",
    "\\end{bmatrix}$$"
   ]
  },
  {
   "cell_type": "code",
   "execution_count": 6,
   "metadata": {
    "collapsed": false
   },
   "outputs": [
    {
     "data": {
      "text/plain": [
       "5x5 Array{Int64,2}:\n",
       " 0  1  0  0  0\n",
       " 0  0  0  0  1\n",
       " 0  0  0  1  0\n",
       " 1  0  0  0  0\n",
       " 0  0  1  0  0"
      ]
     },
     "execution_count": 6,
     "metadata": {},
     "output_type": "execute_result"
    }
   ],
   "source": [
    "P = [0 1 0 0 0\n",
    "0 0 0 0 1\n",
    "0 0 0 1 0\n",
    "1 0 0 0 0\n",
    "0 0 1 0 0]"
   ]
  },
  {
   "cell_type": "code",
   "execution_count": 7,
   "metadata": {
    "collapsed": false
   },
   "outputs": [
    {
     "data": {
      "text/plain": [
       "5-element Array{Int64,1}:\n",
       " 2\n",
       " 5\n",
       " 4\n",
       " 1\n",
       " 3"
      ]
     },
     "execution_count": 7,
     "metadata": {},
     "output_type": "execute_result"
    }
   ],
   "source": [
    "P*A"
   ]
  },
  {
   "cell_type": "markdown",
   "metadata": {},
   "source": [
    "Matrices like that are called _permutation matrices_."
   ]
  },
  {
   "cell_type": "markdown",
   "metadata": {},
   "source": [
    "### Question 5"
   ]
  },
  {
   "cell_type": "markdown",
   "metadata": {},
   "source": [
    "Enter the permutation matrix `P1` which represents the permutation $(1,5,2,4,3)$:"
   ]
  },
  {
   "cell_type": "code",
   "execution_count": 31,
   "metadata": {
    "collapsed": false
   },
   "outputs": [
    {
     "data": {
      "text/plain": [
       "5x5 Array{Int64,2}:\n",
       " 1  0  0  0  0\n",
       " 0  0  0  0  1\n",
       " 0  1  0  0  0\n",
       " 0  0  0  1  0\n",
       " 0  0  1  0  0"
      ]
     },
     "execution_count": 31,
     "metadata": {},
     "output_type": "execute_result"
    }
   ],
   "source": [
    "P1 = [\n",
    "1 0 0 0 0\n",
    "0 0 0 0 1\n",
    "0 1 0 0 0\n",
    "0 0 0 1 0\n",
    "0 0 1 0 0]"
   ]
  },
  {
   "cell_type": "markdown",
   "metadata": {},
   "source": [
    "## Determinants"
   ]
  },
  {
   "cell_type": "markdown",
   "metadata": {},
   "source": [
    "The following is the definition of determinant of a square $n\\times n$ matrix $A$:\n",
    "\n",
    "$$\\lvert A\\rvert = \\sum_\\sigma \\operatorname{sgn}(\\sigma) a_{1\\sigma_1}a_{2\\sigma_2}a_{3\\sigma_3}\\dots a_{n\\sigma_n}$$\n",
    "\n",
    "where the summation is done over all permutations $\\sigma$ of the set $\\{1,2,3,\\dots,n\\}$."
   ]
  },
  {
   "cell_type": "markdown",
   "metadata": {},
   "source": [
    "For example, for $n=2$, we only have two permutations: $(1,2)$ and $(2,1)$, so we get:\n",
    "\n",
    "$$\\begin{aligned}\n",
    "\\lvert A\\rvert &= \\operatorname{sgn}((1,2)) a_{11} a_{22} + \\operatorname{sgn}((2,1)) a_{12} a_{21} \\\\\n",
    "&= (+1)a_{11}a_{22} + (-1)a_{12}a_{21}\\\\\n",
    "&= a_{11}a_{22} - a_{12}a_{21}\n",
    "\\end{aligned}$$"
   ]
  },
  {
   "cell_type": "markdown",
   "metadata": {},
   "source": [
    "What we are doing here is for each permutation $\\sigma$, we take in each row $i$ the $\\sigma_i$-th column entry, multiply all these entries together, and multiply the product by the sign of the permutations.  Then we add all these products together."
   ]
  },
  {
   "cell_type": "markdown",
   "metadata": {},
   "source": [
    "To finish, lets put this into code.  We will define a function `new_det` which will calculate a determinant of a square matrix according to this new definition:"
   ]
  },
  {
   "cell_type": "code",
   "execution_count": 8,
   "metadata": {
    "collapsed": false
   },
   "outputs": [
    {
     "data": {
      "text/plain": [
       "new_det (generic function with 1 method)"
      ]
     },
     "execution_count": 8,
     "metadata": {},
     "output_type": "execute_result"
    }
   ],
   "source": [
    "function new_det{T<:Number}(A::Array{T,2})\n",
    "    # Get the matrix size and check that it is square:\n",
    "    (r,c) = size(A) \n",
    "    if r != c \n",
    "        throw(DimensionMismatch(\"matrix is not square\"))\n",
    "    end\n",
    "    \n",
    "    # Calculate the determinant:\n",
    "    det = 0\n",
    "    for p in permutations(1:r)\n",
    "        prod = levicivita(p)\n",
    "        for (i,j) in enumerate(p)\n",
    "            prod *= A[i,j]\n",
    "        end\n",
    "        det += prod\n",
    "    end\n",
    "    \n",
    "    return det\n",
    "end"
   ]
  },
  {
   "cell_type": "markdown",
   "metadata": {},
   "source": [
    "Let's see how this works:"
   ]
  },
  {
   "cell_type": "code",
   "execution_count": 10,
   "metadata": {
    "collapsed": false
   },
   "outputs": [
    {
     "data": {
      "text/plain": [
       "5"
      ]
     },
     "execution_count": 10,
     "metadata": {},
     "output_type": "execute_result"
    }
   ],
   "source": [
    "new_det([-1 1 2\n",
    "    0 2 3\n",
    "    3 4 2])"
   ]
  },
  {
   "cell_type": "markdown",
   "metadata": {},
   "source": [
    "Compare this with teh determinant function provided by Julia:"
   ]
  },
  {
   "cell_type": "code",
   "execution_count": 11,
   "metadata": {
    "collapsed": false
   },
   "outputs": [
    {
     "data": {
      "text/plain": [
       "5.0"
      ]
     },
     "execution_count": 11,
     "metadata": {},
     "output_type": "execute_result"
    }
   ],
   "source": [
    "det([-1 1 2\n",
    "    0 2 3\n",
    "    3 4 2])"
   ]
  },
  {
   "cell_type": "markdown",
   "metadata": {},
   "source": [
    "We get the same number, except as a floating point number rather than integer.  More about this later.\n",
    "\n",
    "Let's make a function that will test this for us, so we do not have to type in each matrix twice:"
   ]
  },
  {
   "cell_type": "code",
   "execution_count": 9,
   "metadata": {
    "collapsed": false
   },
   "outputs": [
    {
     "data": {
      "text/plain": [
       "test_det (generic function with 1 method)"
      ]
     },
     "execution_count": 9,
     "metadata": {},
     "output_type": "execute_result"
    }
   ],
   "source": [
    "function test_det(A)\n",
    "    od = det(A)\n",
    "    nd = new_det(A)\n",
    "    print(\"Old: $od, new: $nd\")\n",
    "    return od == nd\n",
    "end"
   ]
  },
  {
   "cell_type": "code",
   "execution_count": 13,
   "metadata": {
    "collapsed": false
   },
   "outputs": [
    {
     "name": "stdout",
     "output_type": "stream",
     "text": [
      "Old: 5.0, new: 5"
     ]
    },
    {
     "data": {
      "text/plain": [
       "true"
      ]
     },
     "execution_count": 13,
     "metadata": {},
     "output_type": "execute_result"
    }
   ],
   "source": [
    "test_det([1 2; -2 1])"
   ]
  },
  {
   "cell_type": "code",
   "execution_count": 14,
   "metadata": {
    "collapsed": false
   },
   "outputs": [
    {
     "name": "stdout",
     "output_type": "stream",
     "text": [
      "Old: -14.999999999999998, new: -15"
     ]
    },
    {
     "data": {
      "text/plain": [
       "false"
      ]
     },
     "execution_count": 14,
     "metadata": {},
     "output_type": "execute_result"
    }
   ],
   "source": [
    "test_det([1 2 3; -1 3 2; 2 1 0])"
   ]
  },
  {
   "cell_type": "markdown",
   "metadata": {
    "collapsed": true
   },
   "source": [
    "Now this is interesting.  What is going on here?\n",
    "\n",
    "To understand the difference encountered here, we need to realize that the permutation method for calculating determinants is, especially for large matrices, extremely inefficient.  The number of permutation needed grows very quickly with the size of the matrix, so that using the new method for matrices larger than $4\\times 4$ is really impractical.   It works very well for $3\\times 3$ matrices (in fact, we used it for $3\\times 3$ matrices before, we just did not mention it), and it gives us a formula for determinants that can be used for theoretical derivations of other methods and theorems, but __nobody should use it to actually calculate determinants of large matrices__.  The methods used by Julia's `det` function depend somewhat on the properties of the actual matrix, but they are based on Gauss elimination, and usually involve division.  Dividing integers generally results in floating point numbers, and calculations with floating point numbers often involve small rounding errors.  As you can see, the error is extremely small, around 0.000000000000002."
   ]
  },
  {
   "cell_type": "markdown",
   "metadata": {},
   "source": [
    "### Question 6\n",
    "You do not have to enter any answer for this question, but I strongly encourage you to do it anyway.  Use the new method, by hand, to calculate te determinant of the matrix  \n",
    "\n",
    "$$A = \\begin{bmatrix}\n",
    "8 & 6 & 3\\\\\n",
    "6 & 3 & 0\\\\\n",
    "3 & 0 & 2\n",
    "\\end{bmatrix}$$\n",
    "\n",
    "You can use the list of permutations that you greated when answering question 1, replacing a by 1, b by 2 and c by 3, or you can generate the permutations again.  You can even use the computer to generate the permutations, but the rest of the calculation should be done by hand. \n",
    "\n",
    "You can use the computer (either `det` or `new_det`) to check your answer."
   ]
  },
  {
   "cell_type": "code",
   "execution_count": 27,
   "metadata": {
    "collapsed": false
   },
   "outputs": [
    {
     "name": "stdout",
     "output_type": "stream",
     "text": [
      "information that I need to calculate by hand, there is another cell below that has the calculation\n",
      "[1,2,3]\n",
      "8\n",
      "3\n",
      "2\n",
      "[1,3,2]\n",
      "8\n",
      "0\n",
      "0\n",
      "[2,1,3]\n",
      "6\n",
      "6\n",
      "2\n",
      "[2,3,1]\n",
      "6\n",
      "0\n",
      "3\n",
      "[3,1,2]\n",
      "3\n",
      "6\n",
      "0\n",
      "[3,2,1]\n",
      "3\n",
      "3\n",
      "3\n"
     ]
    }
   ],
   "source": [
    "println(\"information that I need to calculate by hand, there is another cell below that has the calculation\")\n",
    "A =[8 6 3; 6 3 0; 3 0 2]\n",
    "for p1 in permutations([1,2,3])\n",
    "    println(p1)\n",
    "    for (i,j) in enumerate(p1)\n",
    "        println(A[i,j])\n",
    "end\n",
    "end"
   ]
  },
  {
   "cell_type": "code",
   "execution_count": 29,
   "metadata": {
    "collapsed": false
   },
   "outputs": [
    {
     "name": "stdout",
     "output_type": "stream",
     "text": [
      "By hand determinant is : -51\n"
     ]
    }
   ],
   "source": [
    "p1 = levicivita([1,2,3])*8*3*2\n",
    "p2 = levicivita([1,3,2])*8*0*0\n",
    "p3 = levicivita([2,1,3])*6*6*2\n",
    "p4 = levicivita([2,3,1])*6*0*0\n",
    "p5 = levicivita([3,1,2])*3*6*0\n",
    "p6 = levicivita([3,2,1])*3*3*3\n",
    "det_mine = p1 + p2 + p3 + p4 + p5 + p6\n",
    "println(\"By hand determinant is : \", det_mine)"
   ]
  },
  {
   "cell_type": "code",
   "execution_count": 30,
   "metadata": {
    "collapsed": false
   },
   "outputs": [
    {
     "name": "stdout",
     "output_type": "stream",
     "text": [
      "Old: -51.0, new: -51"
     ]
    },
    {
     "data": {
      "text/plain": [
       "true"
      ]
     },
     "execution_count": 30,
     "metadata": {},
     "output_type": "execute_result"
    }
   ],
   "source": [
    "test_det([8 6 3; 6 3 0; 3 0 2])"
   ]
  },
  {
   "cell_type": "code",
   "execution_count": null,
   "metadata": {
    "collapsed": true
   },
   "outputs": [],
   "source": []
  }
 ],
 "metadata": {
  "kernelspec": {
   "display_name": "Julia",
   "language": "julia",
   "name": "julia-0.4"
  },
  "language_info": {
   "file_extension": ".jl",
   "mimetype": "application/julia",
   "name": "julia",
   "version": "0.4.1"
  },
  "name": "dets_perms_turnin.ipynb"
 },
 "nbformat": 4,
 "nbformat_minor": 0
}
