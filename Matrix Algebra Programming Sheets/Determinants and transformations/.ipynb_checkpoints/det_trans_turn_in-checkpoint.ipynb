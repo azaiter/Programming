{
 "cells": [
  {
   "cell_type": "markdown",
   "metadata": {
    "collapsed": false
   },
   "source": [
    "## Determinants and Transformations"
   ]
  },
  {
   "cell_type": "markdown",
   "metadata": {},
   "source": [
    "In the last couple of homeworks, you learned how matrices can represent simple geometric transformations of points and other objects in a plane, and you lern a bit about determinants.  "
   ]
  }
 ],
 "metadata": {
  "kernelspec": {
   "display_name": "Julia",
   "language": "julia",
   "name": "julia-0.4"
  },
  "language_info": {
   "file_extension": ".jl",
   "mimetype": "application/julia",
   "name": "julia",
   "version": "0.4.1"
  },
  "name": "det_trans_turn_in.ipynb"
 },
 "nbformat": 4,
 "nbformat_minor": 0
}
