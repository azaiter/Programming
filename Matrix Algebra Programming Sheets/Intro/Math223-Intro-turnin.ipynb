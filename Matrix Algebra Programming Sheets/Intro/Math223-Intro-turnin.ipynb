{
 "cells": [
  {
   "cell_type": "markdown",
   "metadata": {
    "collapsed": false
   },
   "source": [
    "# Math 223 Intro Homework"
   ]
  },
  {
   "cell_type": "markdown",
   "metadata": {},
   "source": [
    "Welcome to Math 223.  In this course, we will be using the Julia language to do some matrix and vector calcuations. One of the easiest ways to use Julia is through a Jupyter notebook interface.  What you are just reading is an example of a Jupyter notebook.  A Jupyter notebook lets you combine rich text (entered in a version of the _markdown_ syntax) with math formulas (entered in the $\\LaTeX$ syntax) and calculations in a supported programming language, in this case Julia."
   ]
  },
  {
   "cell_type": "markdown",
   "metadata": {},
   "source": [
    "__For example:__ Suppose we wanted to find an approximation to the number $$7 + \\frac{\\sqrt{13}}{5}$$ using Julia:"
   ]
  },
  {
   "cell_type": "code",
   "execution_count": 1,
   "metadata": {
    "collapsed": false
   },
   "outputs": [
    {
     "data": {
      "text/plain": [
       "7.721110255092798"
      ]
     },
     "execution_count": 1,
     "metadata": {},
     "output_type": "execute_result"
    }
   ],
   "source": [
    "7 + sqrt(13)/5"
   ]
  },
  {
   "cell_type": "markdown",
   "metadata": {},
   "source": [
    "Or we may want to find the 100th partial sum of the harmonic series: $$s_{100} = \\sum_{i=1}^{100} \\frac{1}{i}$$ using a simple loop: "
   ]
  },
  {
   "cell_type": "code",
   "execution_count": 2,
   "metadata": {
    "collapsed": false
   },
   "outputs": [
    {
     "name": "stdout",
     "output_type": "stream",
     "text": [
      "5.187377517639621"
     ]
    }
   ],
   "source": [
    "n = 100\n",
    "s = 0\n",
    "\n",
    "for i = 1:n\n",
    "    s += 1/i\n",
    "end\n",
    "\n",
    "print(s)"
   ]
  },
  {
   "cell_type": "markdown",
   "metadata": {},
   "source": [
    "As you can see, a Jupyter notebook will let us do computations using a programming language, display the results of the computations, a explain the computation in a nice easy to read way, all in one document, all that in your browser."
   ]
  },
  {
   "cell_type": "markdown",
   "metadata": {},
   "source": [
    "Not only that, but the notebook is fully interactive, which means that somebody reading a notebook can make changes and the changes will be reflected in the displayed text and the cresults of the computation.\n",
    "\n",
    "Try it now -- by following these steps, you will change the notebook so it will calculate the 200th partial sum, rather than 100th partial sum:\n",
    "\n",
    "1.   First double click on the summation formula for $s_{100}$ above.  It will change the text so you will be able to edit it.  Carefully edit the text so that every occurence of 100 will become 200.  Make sure you do not change anything else, unless you know what you are doing (if you know _markdown_ and $\\LaTeX$ syntax, you may want to experiment more). Then press <kbd>Shift</kbd>-<kbd>Enter</kbd> to turn the text back to it's typeset form, this time with 100's replaced by 200's. \n",
    "\n",
    "    Note that this was not strictly necessary.  So far you did not change any actual computation, you only edited a description of the computation. It is a good idea, however, to always edit your descriptions every time you do any changes to the computation, so that the descriptions actually correspond well to what is going on in the computation.  By following this advice, you will avoid looking at your notebooks couple months later and scratching your had in confusion, trying to figure out what in the world is going on there.\n",
    "    \n",
    "2.   Now you will change the actual computation. In the part of the notebook where the sum is actually being computed, change the line that says `n = 100` so it will say `n = 200` instead.  Press <kbd>Shift</kbd>-<kbd>Enter</kbd> again and see that the result updates accordingly.  \n",
    "\n",
    "     An interesting thing is that you will actually not see a lot of difference! The sum will change from about 5.2 to about 5.8.  Even though the harmonic series is divergent, it diverges so slowly that adding 100 more terms barely changes the partial sum!"
   ]
  },
  {
   "cell_type": "markdown",
   "metadata": {
    "collapsed": true
   },
   "source": [
    "### Some explanation\n",
    "\n",
    "To better understand what is going on, it is important to know that a Jupyter notebook consists of a series of so called _cells_. There are two main types of cells:\n",
    "\n",
    "*  __Code cells__, that contain a code in a supported programming language.  When you press <kbd>Shift</kbd>-<kbd>Enter</kbd>, the cell is executed, and its output is inserted into the notebook directly underneeth.  The output can be of various kind, for example it could be a printed text, or it could be an image, such as a plot or a diagram.\n",
    "\n",
    "*  __Markdown cells__, that contain text formatted in a dialect of _Markdown_. When you press <kbd>Shift</kbd>-<kbd>Enter</kbd>, the cell is _rendered_, shown in a nicely typeset form.  Double clicking on a rendered cell turns it back into the original markdown source, so you can edit it again.\n",
    "\n",
    "There are some other types, but we do not need to worry about them.\n",
    "\n",
    "To change a type of a cell, you can use the menu: Cell -> Type -> ..., or you can use keyboard shortcuts.  Look in the menu under Help -> Keyboard shortcuts to learn about those."
   ]
  },
  {
   "cell_type": "markdown",
   "metadata": {},
   "source": [
    "### _Markdown_ and $\\LaTeX$\n",
    "\n",
    "There is a nice summary of _Markdown_ syntax at [Daring Fireball: Markdown Syntax Documentation](https://daringfireball.net/projects/markdown/syntax).  There are several slightly incompatible versions of _Markdown_ in the wild, but the differences are small, and with a bit of experiemnting you should be able to figure out the one you need.\n",
    "\n",
    "To enter math formulas in _Markdown_, you use so called $\\LaTeX$ (or, when typed in a sane way, LaTeX).  It is a de-facto standard way of entering math formulas on the web and in the math literature. There is a huge numbers of LaTeX tutorials on the web, but most of them deal with the full $\\LaTeX$ system, designed for typesetting complete mathematical documents such as articles or books.  For our purposes we just need to learn a subset of LaTeX that will let us type formulas into the nonotebooks. There is a simple summary at the [Wiki MathJax Syntax](http://www.suluclac.com/Wiki+MathJax+Syntax) page at `suluclac.com`."
   ]
  },
  {
   "cell_type": "markdown",
   "metadata": {},
   "source": [
    "## Your actual homework\n",
    "\n",
    "Now the most important thing: what are you expected to do on this homework assignment:\n",
    "\n",
    "I want you to just experiment with this notebook.  You can edit the cells above, but I want you to try to enter some new cells below.  Create some code cells with simple calculations, such as $1 + 1$, experiment with other calculations in Julia, create some markdown cells and try to use some _Markdown_ formatting, or perhaps even a $\\LaTeX$ formula or two.  I will give few bonus points if I see something cool.\n",
    "\n",
    "Important thing: __do not rename the notebook__.  When I collect the homework next week, I will expect it to be in this notebook, so if you rename it, I will not see it!\n",
    "\n",
    "The deadline for the homework is on Tuesday, January 19, at 8 in the morning.\n",
    "\n",
    "Please [let me know](mailto:jhlavace@svsu.edu) if you have any questions or need help."
   ]
  },
  {
   "cell_type": "markdown",
   "metadata": {},
   "source": [
    "<p style=\"text-align:center\"><img src=\"http://www.ruslana-decor.com/assets/hatter/transparent%20scroll%20line.png\"/></p>\n",
    "\n",
    "# My Submission For This Assignment : #\n",
    "\n",
    "## Starting up with a quote that I liked ## \n",
    "> <font color=\"blue\"><b> \"The difference between the poet and the mathematician is that the poet tries to get his head into the heavens while the mathematician tries to get the heavens into his head.”</b></font> ― G.K. Chesterton\n",
    "\n",
    "## Matrices Demonistration ##\n",
    "\n",
    "#### _Note: Matrices are taken from in class examples._\n",
    "\n",
    "### <font color=\"green\"> A =  $\\begin{bmatrix} 1 & 1 & 1 \\\\ 9 & 3 & 1 \\\\ 25 & 5 & 1 \\end{bmatrix}$ </font> ###"
   ]
  },
  {
   "cell_type": "code",
   "execution_count": null,
   "metadata": {
    "collapsed": true
   },
   "outputs": [],
   "source": [
    "A = [1 1 1 \n",
    "     9 3 1\n",
    "     25 5 1]"
   ]
  },
  {
   "cell_type": "markdown",
   "metadata": {},
   "source": [
    "### <font color=\"grey\"> B =  $\\begin{bmatrix} -4 \\\\ -2 \\\\ 8 \\end{bmatrix}$ </font> ###"
   ]
  },
  {
   "cell_type": "code",
   "execution_count": null,
   "metadata": {
    "collapsed": true
   },
   "outputs": [],
   "source": [
    "B = [-4;-2;8]"
   ]
  },
  {
   "cell_type": "markdown",
   "metadata": {
    "collapsed": false
   },
   "source": [
    "### And A\\B is going to be :"
   ]
  },
  {
   "cell_type": "code",
   "execution_count": 6,
   "metadata": {
    "collapsed": false,
    "scrolled": true
   },
   "outputs": [
    {
     "data": {
      "text/plain": [
       "3-element Array{Float64,1}:\n",
       "  1.0\n",
       " -3.0\n",
       " -2.0"
      ]
     },
     "execution_count": 6,
     "metadata": {},
     "output_type": "execute_result"
    }
   ],
   "source": [
    "A\\B"
   ]
  },
  {
   "cell_type": "markdown",
   "metadata": {},
   "source": [
    "## Loop demonistration:\n",
    "\n",
    "### Outputting prime numbers between two numbers.\n"
   ]
  },
  {
   "cell_type": "code",
   "execution_count": 11,
   "metadata": {
    "collapsed": false
   },
   "outputs": [
    {
     "name": "stdout",
     "output_type": "stream",
     "text": [
      "2 is prime\n",
      "3 is prime\n",
      "5 is prime\n",
      "7 is prime\n",
      "11 is prime\n",
      "13 is prime\n",
      "17 is prime\n",
      "19 is prime\n",
      "23 is prime\n",
      "29 is prime\n",
      "31 is prime\n",
      "37 is prime\n",
      "41 is prime\n",
      "43 is prime\n",
      "47 is prime\n",
      "53 is prime\n",
      "59 is prime\n",
      "61 is prime\n",
      "67 is prime\n",
      "71 is prime\n",
      "73 is prime\n",
      "79 is prime\n",
      "83 is prime\n",
      "89 is prime\n",
      "97 is prime\n",
      "101 is prime\n",
      "103 is prime\n",
      "107 is prime\n",
      "109 is prime\n",
      "113 is prime\n"
     ]
    }
   ],
   "source": [
    "## code logic taken from c++ function with some edits\n",
    "start = 1 #start\n",
    "ending = 120 #end\n",
    "\n",
    "for i = start:ending\n",
    "    counter = 0\n",
    "    for i2 = 1:i\n",
    "        if i%i2 == 0\n",
    "            counter = counter + 1 \n",
    "        end\n",
    "    end\n",
    "    if counter == 2\n",
    "        println(i,\" is prime\") \n",
    "    end\n",
    "end"
   ]
  },
  {
   "cell_type": "markdown",
   "metadata": {},
   "source": [
    "<center>&copy; Abdulrahman Zaiter 2016</center>\n",
    "<p style=\"text-align:center\"><img src=\"http://www.ruslana-decor.com/assets/hatter/transparent%20scroll%20line.png\"/></p>"
   ]
  }
 ],
 "metadata": {
  "kernelspec": {
   "display_name": "Julia",
   "language": "julia",
   "name": "julia-0.4"
  },
  "language_info": {
   "file_extension": ".jl",
   "mimetype": "application/julia",
   "name": "julia",
   "version": "0.4.1"
  },
  "name": "Math223-Intro-turnin.ipynb"
 },
 "nbformat": 4,
 "nbformat_minor": 0
}
