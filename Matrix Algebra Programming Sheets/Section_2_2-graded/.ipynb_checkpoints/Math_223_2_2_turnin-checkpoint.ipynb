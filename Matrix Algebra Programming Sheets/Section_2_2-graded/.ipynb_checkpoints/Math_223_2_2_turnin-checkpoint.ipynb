{
 "cells": [
  {
   "cell_type": "markdown",
   "metadata": {
    "collapsed": false
   },
   "source": [
    "# Math 223 Section 2.2 Homework"
   ]
  },
  {
   "cell_type": "markdown",
   "metadata": {},
   "source": [
    "In this homework you will solve several problems from section 2.2.  The problems to do are these:\n",
    "\n",
    "1.  "
   ]
  }
 ],
 "metadata": {
  "kernelspec": {
   "display_name": "Julia",
   "language": "julia",
   "name": "julia-0.4"
  },
  "language_info": {
   "file_extension": ".jl",
   "mimetype": "application/julia",
   "name": "julia",
   "version": "0.4.1"
  },
  "name": "Math_223_2_2_turnin.ipynb"
 },
 "nbformat": 4,
 "nbformat_minor": 0
}
