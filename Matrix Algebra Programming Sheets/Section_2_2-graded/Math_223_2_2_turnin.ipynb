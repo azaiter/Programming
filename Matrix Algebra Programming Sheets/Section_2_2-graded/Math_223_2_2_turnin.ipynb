{
 "cells": [
  {
   "cell_type": "markdown",
   "metadata": {
    "collapsed": false
   },
   "source": [
    "# Math 223 Section 2.2 Homework"
   ]
  },
  {
   "cell_type": "markdown",
   "metadata": {},
   "source": [
    "In this homework you will solve several problems from section 2.2.  The problems to do are these:\n",
    "\n",
    "1.   Number 5\n",
    "1.   Number 24 b,d, and f\n",
    "1.   Number 29 b\n",
    "1.   Number 30\n",
    "1.   Number 41 (read the Example 6 on page 55)\n",
    "\n",
    "I will get you started on number 5:"
   ]
  },
  {
   "cell_type": "markdown",
   "metadata": {},
   "source": [
    "## Problem 5"
   ]
  },
  {
   "cell_type": "code",
   "execution_count": 3,
   "metadata": {
    "collapsed": false
   },
   "outputs": [
    {
     "data": {
      "text/plain": [
       "2x2 Array{Int64,2}:\n",
       "  2  0\n",
       " -1  5"
      ]
     },
     "execution_count": 3,
     "metadata": {},
     "output_type": "execute_result"
    }
   ],
   "source": [
    "A = [2 0; -1 5]"
   ]
  },
  {
   "cell_type": "code",
   "execution_count": 5,
   "metadata": {
    "collapsed": false
   },
   "outputs": [
    {
     "data": {
      "text/plain": [
       "2x2 Array{Int64,2}:\n",
       " -1  1\n",
       "  2  4"
      ]
     },
     "execution_count": 5,
     "metadata": {},
     "output_type": "execute_result"
    }
   ],
   "source": [
    "B = [-1 1; 2 4]"
   ]
  },
  {
   "cell_type": "code",
   "execution_count": 6,
   "metadata": {
    "collapsed": false
   },
   "outputs": [
    {
     "data": {
      "text/plain": [
       "2x2 Array{Int64,2}:\n",
       " 3  4\n",
       " 0  2"
      ]
     },
     "execution_count": 6,
     "metadata": {},
     "output_type": "execute_result"
    }
   ],
   "source": [
    "C = [3 4; 0 2]"
   ]
  },
  {
   "cell_type": "markdown",
   "metadata": {},
   "source": [
    "### part a:"
   ]
  },
  {
   "cell_type": "code",
   "execution_count": 7,
   "metadata": {
    "collapsed": false
   },
   "outputs": [
    {
     "data": {
      "text/plain": [
       "2x2 Array{Int64,2}:\n",
       "  26   34\n",
       " 187  383"
      ]
     },
     "execution_count": 7,
     "metadata": {},
     "output_type": "execute_result"
    }
   ],
   "source": [
    "(A*B)^2"
   ]
  },
  {
   "cell_type": "markdown",
   "metadata": {
    "collapsed": true
   },
   "source": [
    "From here you are on your own. The exercises should be fairly straightforward, all you need to do is enter matrices and use matrix operations.  There will be a written homework with some more interesting problems.\n",
    "\n",
    "Let me know if you need any help.  I can always look at your notebook and fix mistakes or give you hints.  Just send me email if you need help."
   ]
  },
  {
   "cell_type": "markdown",
   "metadata": {
    "collapsed": true
   },
   "source": [
    "### part b\n"
   ]
  },
  {
   "cell_type": "code",
   "execution_count": 8,
   "metadata": {
    "collapsed": false
   },
   "outputs": [
    {
     "data": {
      "text/plain": [
       "2x2 Array{Int64,2}:\n",
       "  -7   -9\n",
       " -19  -49"
      ]
     },
     "execution_count": 8,
     "metadata": {},
     "output_type": "execute_result"
    }
   ],
   "source": [
    "A-3B^2"
   ]
  },
  {
   "cell_type": "markdown",
   "metadata": {},
   "source": [
    "### part c"
   ]
  },
  {
   "cell_type": "code",
   "execution_count": 9,
   "metadata": {
    "collapsed": false
   },
   "outputs": [
    {
     "data": {
      "text/plain": [
       "2x2 Array{Int64,2}:\n",
       " 50  156\n",
       " 57  109"
      ]
     },
     "execution_count": 9,
     "metadata": {},
     "output_type": "execute_result"
    }
   ],
   "source": [
    "(A^2)*B+2*C^3"
   ]
  },
  {
   "cell_type": "markdown",
   "metadata": {},
   "source": [
    "### part d"
   ]
  },
  {
   "cell_type": "code",
   "execution_count": 10,
   "metadata": {
    "collapsed": false
   },
   "outputs": [
    {
     "data": {
      "text/plain": [
       "2x2 Array{Int64,2}:\n",
       "   7   0\n",
       " -12  43"
      ]
     },
     "execution_count": 10,
     "metadata": {},
     "output_type": "execute_result"
    }
   ],
   "source": [
    "2A^2-2A+3*[1 0;0 1]"
   ]
  },
  {
   "cell_type": "markdown",
   "metadata": {},
   "source": [
    "<font color=\"red\">use `I` or `eye(2)` for the identity matrix.  Using `I` is better in situation like this, since it will automatically adjust its size.</font>"
   ]
  },
  {
   "cell_type": "markdown",
   "metadata": {},
   "source": [
    "## problem 24\n",
    "\n",
    "### part b , d and f **Note: matrices names B2 , D2 , F2\n"
   ]
  },
  {
   "cell_type": "code",
   "execution_count": 6,
   "metadata": {
    "collapsed": false
   },
   "outputs": [
    {
     "name": "stdout",
     "output_type": "stream",
     "text": [
      "===========Part b==========\n",
      "[1 0\n",
      " 0 0] is idempotent matrix\n",
      "===========Part d==========\n",
      "[3 -6\n",
      " 1 -2] is idempotent matrix\n",
      "===========Part f==========\n",
      "[1 3 0\n",
      " 0 0 1\n",
      " 0 0 0] is NOT idempotent matrix\n",
      "===========================\n"
     ]
    }
   ],
   "source": [
    "B2=[1 0 ;0 0]\n",
    "\n",
    "D2=[3 -6;1 -2]\n",
    "\n",
    "F2= [1 3 0; 0 0 1; 0 0 0]\n",
    "\n",
    "println(\"===========Part b==========\")\n",
    "if B2*B2 == B2\n",
    "    println(B2,\" is idempotent matrix\")\n",
    "else\n",
    "    println(B2,\" is NOT idempotent matrix\")\n",
    "end\n",
    "\n",
    "println(\"===========Part d==========\")\n",
    "if D2*D2 == D2\n",
    "    println(D2,\" is idempotent matrix\")\n",
    "else\n",
    "    println(D2,\" is NOT idempotent matrix\")\n",
    "end\n",
    "println(\"===========Part f==========\")\n",
    "if F2*F2 == F2\n",
    "    println(F2,\" is idempotent matrix\")\n",
    "else\n",
    "    println(F2,\" is NOT idempotent matrix\")\n",
    "end\n",
    "println(\"===========================\")\n"
   ]
  },
  {
   "cell_type": "markdown",
   "metadata": {},
   "source": [
    "<font color=\"red\">Nice!</font>"
   ]
  },
  {
   "cell_type": "markdown",
   "metadata": {},
   "source": [
    "## problem 29B"
   ]
  },
  {
   "cell_type": "code",
   "execution_count": 7,
   "metadata": {
    "collapsed": false
   },
   "outputs": [
    {
     "data": {
      "text/plain": [
       "2x2 Array{Int64,2}:\n",
       " 0  0\n",
       " 0  0"
      ]
     },
     "execution_count": 7,
     "metadata": {},
     "output_type": "execute_result"
    }
   ],
   "source": [
    "B3 = [-4 8; -2 4]\n",
    "\n",
    "B3^2"
   ]
  },
  {
   "cell_type": "markdown",
   "metadata": {},
   "source": [
    "#### B3^2 is a zero matrix\n",
    "#### therefore: B3 is nilpotent matrix of dgree 2"
   ]
  },
  {
   "cell_type": "markdown",
   "metadata": {},
   "source": [
    "## problem 30"
   ]
  },
  {
   "cell_type": "code",
   "execution_count": 9,
   "metadata": {
    "collapsed": false
   },
   "outputs": [
    {
     "data": {
      "text/plain": [
       "3x3 Array{Int64,2}:\n",
       " 0  0  0\n",
       " 0  0  0\n",
       " 0  0  0"
      ]
     },
     "execution_count": 9,
     "metadata": {},
     "output_type": "execute_result"
    }
   ],
   "source": [
    "A4 = [0 1 0; 0 0 1; 0 0 0]\n",
    "\n",
    "A4^3"
   ]
  },
  {
   "cell_type": "markdown",
   "metadata": {},
   "source": [
    "#### A4^3 is a zero matrix<br>\n",
    "#### therefore: A4 is nilpotent matrix of dgree 3"
   ]
  },
  {
   "cell_type": "markdown",
   "metadata": {
    "collapsed": true
   },
   "source": [
    "### problem 41\n",
    "#### a) the total transmission matrix is :.\n",
    "####  $\\begin{bmatrix} 3 & -1  \\\\ -1 & 1 \\end{bmatrix}$ $\\begin{bmatrix} 1 & 0  \\\\ 1 & 1 \\end{bmatrix}$    $\\begin{bmatrix} 1 & -1  \\\\ 0 & 1 \\end{bmatrix}$\n",
    "#### b) $\\begin{bmatrix} V4 \\\\ I4 \\end{bmatrix}$ = $\\begin{bmatrix} 3 & -1  \\\\ -1 & 1 \\end{bmatrix}$ $\\begin{bmatrix} 1 & 0  \\\\ 1 & 1 \\end{bmatrix}$    $\\begin{bmatrix} 1 & -1  \\\\ 0 & 1 \\end{bmatrix}$ $\\begin{bmatrix} V1 \\\\ I1 \\end{bmatrix}$\n",
    "#### V1 = 5 , I1 = 2"
   ]
  },
  {
   "cell_type": "code",
   "execution_count": 2,
   "metadata": {
    "collapsed": false
   },
   "outputs": [
    {
     "data": {
      "text/plain": [
       "2-element Array{Int64,1}:\n",
       " 4\n",
       " 2"
      ]
     },
     "execution_count": 2,
     "metadata": {},
     "output_type": "execute_result"
    }
   ],
   "source": [
    "T1 = [3 -1; -1 1]\n",
    "T2 = [1 0 ; 1 1]\n",
    "T3 = [1 -1; 0 1]\n",
    "VI = [5;2]\n",
    "T1*T2*T3*VI\n"
   ]
  },
  {
   "cell_type": "markdown",
   "metadata": {
    "collapsed": true
   },
   "source": [
    "#### $\\begin{bmatrix} V4 \\\\ I4 \\end{bmatrix}$ = $\\begin{bmatrix} 4 \\\\ 2 \\end{bmatrix}$\n",
    "#### V4 = 4 \n",
    "#### I4 = 2"
   ]
  },
  {
   "cell_type": "markdown",
   "metadata": {
    "collapsed": true
   },
   "source": []
  },
  {
   "cell_type": "markdown",
   "metadata": {},
   "source": [
    "<font color=\"green\">Good job!</font>"
   ]
  },
  {
   "cell_type": "code",
   "execution_count": null,
   "metadata": {
    "collapsed": true
   },
   "outputs": [],
   "source": []
  }
 ],
 "metadata": {
  "kernelspec": {
   "display_name": "Julia",
   "language": "julia",
   "name": "julia-0.4"
  },
  "language_info": {
   "file_extension": ".jl",
   "mimetype": "application/julia",
   "name": "julia",
   "version": "0.4.1"
  },
  "name": "Math_223_2_2_turnin.ipynb"
 },
 "nbformat": 4,
 "nbformat_minor": 0
}
