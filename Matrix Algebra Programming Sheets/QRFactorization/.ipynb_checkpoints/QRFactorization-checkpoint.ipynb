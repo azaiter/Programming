{
 "cells": [
  {
   "cell_type": "markdown",
   "metadata": {
    "collapsed": false
   },
   "source": [
    "# QR Factorization and Eigenvalues"
   ]
  },
  {
   "cell_type": "markdown",
   "metadata": {},
   "source": [
    "To review QR factorization:  in class we learned that given a __nonsingular__ square matrix $A$, we can write the $A$ as a product of two matrices: $A = QR$, where $Q$ is __orthogonal__ and $R$ is __upper triangular__."
   ]
  }
 ],
 "metadata": {
  "kernelspec": {
   "display_name": "Python 2 (SageMath)",
   "language": "python",
   "name": "python2"
  },
  "language_info": {
   "codemirror_mode": {
    "name": "ipython",
    "version": 2
   },
   "file_extension": ".py",
   "mimetype": "text/x-python",
   "name": "python",
   "nbconvert_exporter": "python",
   "pygments_lexer": "ipython2",
   "version": "2.7.10"
  },
  "name": "QRFactorization.ipynb"
 },
 "nbformat": 4,
 "nbformat_minor": 0
}
