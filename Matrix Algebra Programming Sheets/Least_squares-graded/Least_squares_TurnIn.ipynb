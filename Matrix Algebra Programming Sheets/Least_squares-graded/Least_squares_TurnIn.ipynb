{
 "cells": [
  {
   "cell_type": "markdown",
   "metadata": {
    "collapsed": false
   },
   "source": [
    "# Least squares \"solutions\""
   ]
  },
  {
   "cell_type": "markdown",
   "metadata": {},
   "source": [
    "In class, we learned to use the pseudoinverse matrix to find the best approximate \"solution\" for systems that do not have an exact solution.  We also saw an example of using this to find a \"line of best fit\" in an application.  We used the Julia `pinv()` function to find the pseudoinverse.\n",
    "\n",
    "In this homework you will do few more exercises from section 7.4.  Find all the solutions, write clear answers, and, for bonus points, plot the data and the curve of best fit.\n",
    "\n",
    "Pick two of the exercises 26, 27, 28 and 29 and solve them.\n",
    "\n",
    "Solve the exercise 32.\n",
    "\n",
    "Show all your work here.  Use Markdown cells to write your answers and any comments you would like to add."
   ]
  },
  {
   "cell_type": "markdown",
   "metadata": {
    "collapsed": true
   },
   "source": [
    "## 26 :\n",
    "by substituting points into equation of line  we get:\n",
    "<br>a+30b=18.25\n",
    "<br>a+40b=20\n",
    "<br>a+50b=16.32\n",
    "<br>a+60b=15.77\n",
    "<br>a+70b=13.61\n",
    "<br>the following code cell takes this data into matrices and finds the least squares solution."
   ]
  },
  {
   "cell_type": "code",
   "execution_count": 1,
   "metadata": {
    "collapsed": false
   },
   "outputs": [
    {
     "data": {
      "text/plain": [
       "2-element Array{Float64,1}:\n",
       " 23.545 \n",
       " -0.1351"
      ]
     },
     "execution_count": 1,
     "metadata": {},
     "output_type": "execute_result"
    }
   ],
   "source": [
    "A26 = [1 30;1 40;1 50;1 60;1 70]\n",
    "b26 = [18.25;20;16.32;15.77;13.61]\n",
    "pinv(A26)*b26"
   ]
  },
  {
   "cell_type": "code",
   "execution_count": 5,
   "metadata": {
    "collapsed": false
   },
   "outputs": [
    {
     "name": "stdout",
     "output_type": "stream",
     "text": [
      "speed of the car = a+bxspeed = 23.545-(0.1351*55) =\n",
      "16.1145 mph"
     ]
    }
   ],
   "source": [
    "println(\"speed of the car = a+bxspeed = 23.545-(0.1351*55) =\")\n",
    "print(23.545-(0.1351*55) , \" mph\")"
   ]
  },
  {
   "cell_type": "markdown",
   "metadata": {},
   "source": [
    "## 27\n",
    "by substituting points into equation of line  we get:\n",
    "<br>a+20b=101\n",
    "<br>a+25b=115\n",
    "<br>a+30b=92\n",
    "<br>a+35b=64\n",
    "<br>a+40b=60\n",
    "<br>a+45b=50\n",
    "<br>a+50b=49\n",
    "<br>the following code cell takes this data into matrices and finds the least squares solution."
   ]
  },
  {
   "cell_type": "code",
   "execution_count": 6,
   "metadata": {
    "collapsed": false
   },
   "outputs": [
    {
     "data": {
      "text/plain": [
       "2-element Array{Float64,1}:\n",
       " 155.357  \n",
       "  -2.27143"
      ]
     },
     "execution_count": 6,
     "metadata": {},
     "output_type": "execute_result"
    }
   ],
   "source": [
    "A27 = [1 20;1 25;1 30;1 35;1 40;1 45;1 50]\n",
    "b27 = [101;115;92;64;60;50;49]\n",
    "pinv(A27)*b27"
   ]
  },
  {
   "cell_type": "code",
   "execution_count": 8,
   "metadata": {
    "collapsed": false
   },
   "outputs": [
    {
     "name": "stdout",
     "output_type": "stream",
     "text": [
      "The number of fatalities of driver at age 22 is found by substituting 22 into least squares equation: 155.357-(2.27143*22) = \n",
      "105.38553999999999 fatalities.\n"
     ]
    }
   ],
   "source": [
    "println(\n",
    "\"The number of fatalities of driver at age 22 is found by substituting 22 into least squares equation: 155.357-(2.27143*22) = \")\n",
    "\n",
    "println(155.357-(2.27143*22)\n",
    ", \" fatalities.\")\n"
   ]
  },
  {
   "cell_type": "markdown",
   "metadata": {},
   "source": [
    "## 32\n",
    "let's consider that the first year existed in graph is zero, to make the graph equevelant to that, we will consider year 1969 as year zero and substract it from the list of years.\n",
    "<br>then by substituting the points into equation of a line:\n",
    "<br>For public schools:\n",
    "<br>a+(1969-1969)b=45.55\n",
    "<br>a+(1979-1969)b=41.651\n",
    "<br>a+(1989-1969)b=40.543\n",
    "<br>a+(1999-1969)b=46.857\n",
    "<br>a+(2000-1969)b=47.051\n",
    "<br>For Private Schools:\n",
    "<br>c+(1969-1969)d=5.5\n",
    "<br>c+(1979-1969)d=5\n",
    "<br>c+(1989-1969)d=5.198\n",
    "<br>c+(1999-1969)d=6.018\n",
    "<br>c+(2000-1969)d=5.851\n",
    "<br>the following code cell takes this data into matrices and finds the least squares solution."
   ]
  },
  {
   "cell_type": "code",
   "execution_count": 4,
   "metadata": {
    "collapsed": false
   },
   "outputs": [
    {
     "data": {
      "text/plain": [
       "2-element Array{Float64,1}:\n",
       " 42.8431   \n",
       "  0.0817177"
      ]
     },
     "execution_count": 4,
     "metadata": {},
     "output_type": "execute_result"
    }
   ],
   "source": [
    "A32 = [1 1969-1969;1 1979-1969;1 1989-1969;1 1999-1969;1 2000-1969]\n",
    "b32 = [45.55;41.651;40.543;46.857;47.051]\n",
    "c32 = [5.5;5;5.198;6.018;5.851]\n",
    "ab32 = pinv(A32)*b32\n",
    "cd32 = pinv(A32)*c32\n",
    "ab32"
   ]
  },
  {
   "cell_type": "code",
   "execution_count": 5,
   "metadata": {
    "collapsed": false
   },
   "outputs": [
    {
     "data": {
      "text/plain": [
       "2-element Array{Float64,1}:\n",
       " 5.14771  \n",
       " 0.0200931"
      ]
     },
     "execution_count": 5,
     "metadata": {},
     "output_type": "execute_result"
    }
   ],
   "source": [
    "cd32"
   ]
  },
  {
   "cell_type": "markdown",
   "metadata": {},
   "source": [
    "a = 42.8431 , b = 0.0817177 , c = 5.14771 , d = 0.0200931"
   ]
  },
  {
   "cell_type": "code",
   "execution_count": 13,
   "metadata": {
    "collapsed": false
   },
   "outputs": [
    {
     "name": "stdout",
     "output_type": "stream",
     "text": [
      "public in 2005 = 42.8431+((2005-1969)*0.0817177) = \n",
      "45.7849372 students\n",
      "private in 2005 = 5.14771+((2005-1969)*0.0200931) = \n",
      "5.8710616 students\n",
      "public in 2010 = 42.8431+((2010-1969)*0.0817177) = \n",
      "46.1935257 students\n",
      "private in 2010 = 5.14771+((2010-1969)*0.0200931) = \n",
      "5.9715271 students\n"
     ]
    }
   ],
   "source": [
    "println(\"public in 2005 = 42.8431+((2005-1969)*0.0817177) = \")\n",
    "println(42.8431+((2005-1969)*0.0817177),\" students\")\n",
    "println(\"private in 2005 = 5.14771+((2005-1969)*0.0200931) = \")\n",
    "println(5.14771+((2005-1969)*0.0200931),\" students\")\n",
    "println(\"public in 2010 = 42.8431+((2010-1969)*0.0817177) = \")\n",
    "println(42.8431+((2010-1969)*0.0817177),\" students\")\n",
    "println(\"private in 2010 = 5.14771+((2010-1969)*0.0200931) = \")\n",
    "println(5.14771+((2010-1969)*0.0200931),\" students\")"
   ]
  },
  {
   "cell_type": "markdown",
   "metadata": {},
   "source": [
    "students numbers cannot be fractions, take the ceiling of the given number to have an estimate \"coudln't find a working ceiling function, ceil() provided me with strange output\"."
   ]
  },
  {
   "cell_type": "code",
   "execution_count": 2,
   "metadata": {
    "collapsed": false
   },
   "outputs": [],
   "source": [
    "using PyPlot\n",
    "ion()"
   ]
  },
  {
   "cell_type": "code",
   "execution_count": 10,
   "metadata": {
    "collapsed": false
   },
   "outputs": [
    {
     "data": {
      "image/png": "[encoded data removed]",
      "text/plain": [
       "PyPlot.Figure(PyObject <matplotlib.figure.Figure object at 0x7f9fc5b1a2d0>)"
      ]
     },
     "metadata": {},
     "output_type": "display_data"
    },
    {
     "data": {
      "text/plain": [
       "2-element Array{Any,1}:\n",
       " PyObject <matplotlib.lines.Line2D object at 0x7f9fc5a173d0>\n",
       " PyObject <matplotlib.lines.Line2D object at 0x7f9fc5a945d0>"
      ]
     },
     "execution_count": 10,
     "metadata": {},
     "output_type": "execute_result"
    }
   ],
   "source": [
    "plot((42.8431+(A32*0.0817177)),\"-og\")"
   ]
  },
  {
   "cell_type": "code",
   "execution_count": 11,
   "metadata": {
    "collapsed": false
   },
   "outputs": [
    {
     "data": {
      "text/plain": [
       "PyPlot.Figure(PyObject <matplotlib.figure.Figure object at 0x7f9fc675d650>)"
      ]
     },
     "metadata": {},
     "output_type": "display_data"
    },
    {
     "data": {
      "text/plain": [
       "2-element Array{Any,1}:\n",
       " PyObject <matplotlib.lines.Line2D object at 0x7f9fc5951d10>\n",
       " PyObject <matplotlib.lines.Line2D object at 0x7f9fc59dc910>"
      ]
     },
     "execution_count": 11,
     "metadata": {},
     "output_type": "execute_result"
    }
   ],
   "source": [
    "plot(( 5.14771+(A32*0.0200931)),\"-og\")"
   ]
  },
  {
   "cell_type": "markdown",
   "metadata": {},
   "source": [
    "<span style=\"color:red\">You only found the _lines_ of best fit, rather than the parabolas of best fit.  You need to include the squares of your $x$ values in your matrix in order to get a parabola!</span>"
   ]
  },
  {
   "cell_type": "code",
   "execution_count": null,
   "metadata": {
    "collapsed": true
   },
   "outputs": [],
   "source": []
  }
 ],
 "metadata": {
  "kernelspec": {
   "display_name": "Julia",
   "language": "julia",
   "name": "julia-0.4"
  },
  "language_info": {
   "file_extension": ".jl",
   "mimetype": "application/julia",
   "name": "julia",
   "version": "0.4.1"
  }
 },
 "nbformat": 4,
 "nbformat_minor": 0
}
