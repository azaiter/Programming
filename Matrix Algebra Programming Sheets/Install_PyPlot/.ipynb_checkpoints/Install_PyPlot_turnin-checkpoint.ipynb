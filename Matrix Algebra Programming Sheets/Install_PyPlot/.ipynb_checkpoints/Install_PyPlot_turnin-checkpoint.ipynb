{
 "cells": [
  {
   "cell_type": "markdown",
   "metadata": {
    "collapsed": false
   },
   "source": [
    "# Installing Plotting Packages\n",
    "\n",
    "This homework is a bit different.  It has nothing to do with matrix algebra.  Its purpose is to help you install appropriate plotting \n",
    "packages into your Julia project, so you will be able to plot points in the next homework."
   ]
  },
  {
   "cell_type": "markdown",
   "metadata": {},
   "source": [
    "There are two main plotting packages for Julia.  I am testing which one of them is more appropriate to use in \n",
    "a class setting like ours.  You have been selected to use the `PyPlot` package, which is a Julia's interface to the \n",
    "powerful python plotting package `Matplotlib`.  This notebook will guide you through the installation of the package.\n",
    "\n",
    "_note:_ You are using a free SageMathCloud account, which normally disables all network access.  You have to pay a monthly \n",
    "fee in order to have an access to the internet from your projects.  I used some of my quota to enable network access in \n",
    "your project in order for you to be able to install packages."
   ]
  },
  {
   "cell_type": "markdown",
   "metadata": {},
   "source": [
    "## Instaling PyPlot\n",
    "\n",
    "To install pyplot, you need to execute the following code cell.  It will produce a lot of output, with messages about cloning packages from GitHub and installing \n",
    "packages.   You will know that the process is finished when the name of the cell changes from `In[*]` to something like `In[1]`, and the smalled filled circle next \n",
    "to the word \"Julia\" in the upper right corner becomes empty.\n",
    "\n",
    "All the messages should be in the \"INFO\" category.  If you see any warnings or errors, or anything else indicating that the installation may not have gone through\n",
    "well, __please let me know__, either by email or using the chat feature in SageMathCloud.\n",
    "\n",
    "If `PyPlot` is already installed and up to date, you will see a single message, saying \"Nothing to be done\"."
   ]
  },
  {
   "cell_type": "code",
   "execution_count": null,
   "metadata": {
    "collapsed": false
   },
   "outputs": [],
   "source": [
    "Pkg.add(\"PyPlot\")"
   ]
  },
  {
   "cell_type": "markdown",
   "metadata": {},
   "source": [
    "## Testing PyPlot\n",
    "\n",
    "Before testing `PyPlot` after it was installed, you need to __restart the notebook__, so that some packages that are used by the notebook and that were updated \n",
    "when you installed `PyPlot` get refreshed.   To do that, click on \"Kernel\" in the notebook menu above, and choose \"Restart\".  Choose \"Clear all outputs and restart\"\n",
    "from the dialog that pops up.  After the kernel restarts, execute the following input cell.  \n",
    "\n",
    "It will take a while, and you will see some messages about precompiling modules.  Again, if there any errors or warnings, __let me know__!"
   ]
  },
  {
   "cell_type": "code",
   "execution_count": null,
   "metadata": {
    "collapsed": false
   },
   "outputs": [],
   "source": [
    "using PyPlot\n",
    "\n",
    "ion()"
   ]
  },
  {
   "cell_type": "markdown",
   "metadata": {},
   "source": [
    "Now you can test plotting.  The following cell should produce a plot showing a green polygonal line passing through the points $(1,1)$, $(2,0)$, $(3,2)$ and $(4,1)$:"
   ]
  },
  {
   "cell_type": "code",
   "execution_count": null,
   "metadata": {
    "collapsed": false
   },
   "outputs": [],
   "source": [
    "plot([1,2,3,4], [1,0,2,1], \"-og\")"
   ]
  },
  {
   "cell_type": "markdown",
   "metadata": {},
   "source": [
    "Again, if something goes wrong and you do not see the plot, __let me know__!\n",
    "\n",
    "You can further experiment with plotting.  There are bunch of examples of `PyPlot` plots at [this gist](https://gist.github.com/gizmaa/7214002)."
   ]
  },
  {
   "cell_type": "code",
   "execution_count": null,
   "metadata": {
    "collapsed": true
   },
   "outputs": [],
   "source": []
  }
 ],
 "metadata": {
  "kernelspec": {
   "display_name": "Julia",
   "language": "julia",
   "name": "julia-0.4"
  },
  "language_info": {
   "file_extension": ".jl",
   "mimetype": "application/julia",
   "name": "julia",
   "version": "0.4.1"
  }
 },
 "nbformat": 4,
 "nbformat_minor": 0
}
