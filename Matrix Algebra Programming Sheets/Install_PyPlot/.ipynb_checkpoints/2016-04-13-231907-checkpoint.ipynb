{
 "cells": [
  {
   "cell_type": "markdown",
   "metadata": {
    "collapsed": false
   },
   "source": [
    "# Installing Plotting Packages\n",
    "\n",
    "This homework is a bit different.  It has nothing to do with matrix algebra.  Its purpose is to help you install appropriate plotting \n",
    "packages into your Julia project, so you will be able to plot points in the next homework."
   ]
  },
  {
   "cell_type": "markdown",
   "metadata": {},
   "source": [
    "There are two main "
   ]
  }
 ],
 "metadata": {
  "kernelspec": {
   "display_name": "Python 2 (SageMath)",
   "language": "python",
   "name": "python2"
  },
  "language_info": {
   "codemirror_mode": {
    "name": "ipython",
    "version": 2
   },
   "file_extension": ".py",
   "mimetype": "text/x-python",
   "name": "python",
   "nbconvert_exporter": "python",
   "pygments_lexer": "ipython2",
   "version": "2.7.8"
  }
 },
 "nbformat": 4,
 "nbformat_minor": 0
}
